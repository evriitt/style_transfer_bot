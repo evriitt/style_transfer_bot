{
  "nbformat": 4,
  "nbformat_minor": 0,
  "metadata": {
    "colab": {
      "provenance": [],
      "authorship_tag": "ABX9TyP8+jGiyPWFGiswskZFzIDW",
      "include_colab_link": true
    },
    "kernelspec": {
      "name": "python3",
      "display_name": "Python 3"
    },
    "language_info": {
      "name": "python"
    }
  },
  "cells": [
    {
      "cell_type": "markdown",
      "metadata": {
        "id": "view-in-github",
        "colab_type": "text"
      },
      "source": [
        "<a href=\"https://colab.research.google.com/github/evriitt/style_transfer_bot/blob/main/art_style_bot.ipynb\" target=\"_parent\"><img src=\"https://colab.research.google.com/assets/colab-badge.svg\" alt=\"Open In Colab\"/></a>"
      ]
    },
    {
      "cell_type": "code",
      "source": [
        "%%capture\n",
        "!git clone https://github.com/junyanz/pytorch-CycleGAN-and-pix2pix\n",
        "import os\n",
        "os.chdir('pytorch-CycleGAN-and-pix2pix/')\n",
        "!pip install -r requirements.txt\n",
        "!pip install telebot -q\n",
        "import urllib\n",
        "import telebot\n",
        "import urllib.request\n",
        "#import nest_asyncio\n",
        "#nest_asyncio.apply()\n",
        "!mkdir /content/user_image\n",
        "!bash ./scripts/download_cyclegan_model.sh  style_monet\n",
        "!bash ./scripts/download_cyclegan_model.sh  style_cezanne\n",
        "!bash ./scripts/download_cyclegan_model.sh  style_ukiyoe\n",
        "!bash ./scripts/download_cyclegan_model.sh  style_vangogh\n"
      ],
      "metadata": {
        "id": "zeSQRlw4XGQe"
      },
      "execution_count": 1,
      "outputs": []
    },
    {
      "cell_type": "code",
      "source": [
        "TOKEN = ''"
      ],
      "metadata": {
        "id": "GvWFA1Jwo7Lk"
      },
      "execution_count": 2,
      "outputs": []
    },
    {
      "cell_type": "code",
      "source": [
        "bot = telebot.TeleBot(TOKEN)\n",
        "\n",
        "@bot.message_handler(commands=['start'])\n",
        "def command_start(message):\n",
        "    bot.send_message(\n",
        "        message.chat.id,\n",
        "        \"Привет! Я умею преобразовывать изображение в один из четырех художественных стилей.\\n\"\n",
        "        \"Загрузи любое изображение через скрепку (прикрепить файл)\"\n",
        "    )\n",
        "\n",
        "@bot.message_handler(content_types=['document'])\n",
        "def scan_message(message):\n",
        "    document_id = message.document.file_id\n",
        "    file_info = bot.get_file(document_id)\n",
        "    fi = file_info.file_path\n",
        "    name = message.document.file_name\n",
        "    urllib.request.urlretrieve(f'https://api.telegram.org/file/bot{TOKEN}/{fi}', f'/content/user_image/{name}')\n",
        "\n",
        "    # Создаем клавиатуру с выбором стиля\n",
        "    keyboard = telebot.types.ReplyKeyboardMarkup(resize_keyboard=True, one_time_keyboard=True)\n",
        "    keyboard.add(\"Клод Моне\", \"Поль Сезанн\", \"Укиё-э\", \"Ван Гог\")\n",
        "    bot.send_message(message.chat.id, \"Теперь выбери стиль:\", reply_markup=keyboard)\n",
        "\n",
        "    # Ожидание ответа с выбором стиля\n",
        "    bot.register_next_step_handler(message, process_style_selection, name)\n",
        "\n",
        "\n",
        "def process_style_selection(message, name):\n",
        "    style_choice = message.text\n",
        "    bot.send_message(message.chat.id, \"Cкоро вернусь\")\n",
        "    if style_choice == \"Клод Моне\":\n",
        "        model_name = 'style_monet_pretrained'\n",
        "    elif style_choice == \"Поль Сезанн\":\n",
        "        model_name = 'style_cezanne_pretrained'\n",
        "    elif style_choice == \"Укиё-э\":\n",
        "        model_name = 'style_ukiyoe_pretrained'\n",
        "    else:\n",
        "        model_name = 'style_vangogh_pretrained'\n",
        "\n",
        "    # Запускаем модель для обработки изображения с выбранным стилем\n",
        "    command = f\"python test.py --dataroot /content/user_image/ --name {model_name} --model test --no_dropout --gpu_ids -1 --preprocess scale_width --load_size 350\"\n",
        "    os.system(command)\n",
        "    fake_img_path = f'/content/pytorch-CycleGAN-and-pix2pix/results/{model_name}/test_latest/images/{name[:-4]}_fake.png'\n",
        "\n",
        "    # Отправляем обработанное изображение пользователю\n",
        "    bot.send_message(message.chat.id, \"Готово!\")\n",
        "    with open(fake_img_path, \"rb\") as photo_file:\n",
        "        bot.send_photo(message.chat.id, photo_file)\n",
        "\n",
        "    # Предложение пользователя выбрать другой стиль или загрузить новое изображение\n",
        "    keyboard = telebot.types.ReplyKeyboardMarkup(resize_keyboard=True, one_time_keyboard=True)\n",
        "    keyboard.add(\"Другой стиль\", \"Загрузить новое изображение\")\n",
        "    bot.send_message(message.chat.id, \"Что дальше?\", reply_markup=keyboard)\n",
        "\n",
        "    # Ожидание ответа пользователя\n",
        "    bot.register_next_step_handler(message, handle_next_step, name)\n",
        "\n",
        "\n",
        "def handle_next_step(message, name):\n",
        "    choice = message.text\n",
        "    if choice == \"Другой стиль\":\n",
        "        keyboard = telebot.types.ReplyKeyboardMarkup(resize_keyboard=True, one_time_keyboard=True)\n",
        "        keyboard.add(\"Клод Моне\", \"Поль Сезанн\", \"Укиё-э\", \"Ван Гог\")\n",
        "        bot.send_message(message.chat.id, \"Выбери другой стиль:\", reply_markup=keyboard)\n",
        "        bot.register_next_step_handler(message, process_style_selection, name)\n",
        "    elif choice == \"Загрузить новое изображение\":\n",
        "        bot.send_message(message.chat.id, \"Загрузи новое изображение:\")\n",
        "        bot.register_next_step_handler(message, scan_message)\n",
        "\n",
        "\n",
        "def main():\n",
        "    bot.polling()\n",
        "\n",
        "if __name__ == \"__main__\":\n",
        "    main()\n"
      ],
      "metadata": {
        "id": "Eq7PuQmlUF4N"
      },
      "execution_count": 4,
      "outputs": []
    },
    {
      "cell_type": "code",
      "source": [],
      "metadata": {
        "id": "3MCHpJSEDWPb"
      },
      "execution_count": null,
      "outputs": []
    }
  ]
}
