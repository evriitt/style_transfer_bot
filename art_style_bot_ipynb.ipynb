{
  "nbformat": 4,
  "nbformat_minor": 0,
  "metadata": {
    "colab": {
      "provenance": [],
      "gpuType": "T4",
      "collapsed_sections": [
        "_d0GRmL2-6j3"
      ]
    },
    "kernelspec": {
      "name": "python3",
      "display_name": "Python 3"
    },
    "language_info": {
      "name": "python"
    },
    "accelerator": "GPU"
  },
  "cells": [
    {
      "cell_type": "code",
      "source": [
        "TG_BOT_TOKEN=''"
      ],
      "metadata": {
        "id": "7onfWbBD3_A-"
      },
      "execution_count": null,
      "outputs": []
    },
    {
      "cell_type": "markdown",
      "source": [
        "## Код бота"
      ],
      "metadata": {
        "id": "_d0GRmL2-6j3"
      }
    },
    {
      "cell_type": "code",
      "source": [
        "%%capture\n",
        "!git clone https://github.com/junyanz/pytorch-CycleGAN-and-pix2pix\n",
        "import os\n",
        "os.chdir('pytorch-CycleGAN-and-pix2pix/')\n",
        "!pip install -r requirements.txt\n",
        "!pip install telebot -q\n",
        "!pip install --upgrade Pillow\n",
        "import urllib\n",
        "import torch\n",
        "import telebot\n",
        "import urllib.request\n",
        "import logging\n",
        "import sys\n",
        "\n",
        "!mkdir /content/user_image\n",
        "!bash ./scripts/download_cyclegan_model.sh  style_monet\n",
        "!bash ./scripts/download_cyclegan_model.sh  style_cezanne\n",
        "!bash ./scripts/download_cyclegan_model.sh  style_ukiyoe\n",
        "!bash ./scripts/download_cyclegan_model.sh  style_vangogh\n",
        "!mkdir user_image"
      ],
      "metadata": {
        "id": "3GJ-vDsFKHj4"
      },
      "execution_count": null,
      "outputs": []
    },
    {
      "cell_type": "code",
      "source": [
        "def start_bot():\n",
        "\n",
        "  logger = logging.getLogger()\n",
        "  logger.setLevel(logging.INFO)\n",
        "  logging.basicConfig(\n",
        "      level=logging.INFO,\n",
        "      format='%(asctime)s - %(levelname)s - %(message)s',  # Настройки логгирования\n",
        "      handlers=[\n",
        "          logging.FileHandler('bot.log'),\n",
        "          logging.StreamHandler(sys.stdout)  ])\n",
        "\n",
        "\n",
        "  bot = telebot.TeleBot(TG_BOT_TOKEN)\n",
        "\n",
        "  gpu_ids = '0' if torch.cuda.is_available() else '-1'\n",
        "  logging.info(f'gpu_ids is {gpu_ids}')\n",
        "  logging.info('Bot is ready!')\n",
        "\n",
        "  @bot.message_handler(commands=['start'])            # Реакция на /start\n",
        "  def command_start(message):\n",
        "      bot.send_message(\n",
        "          message.chat.id,\n",
        "          \"Привет! Я умею преобразовывать изображение в один из четырех художественных стилей.\\n\"\n",
        "          \"Загрузи любое изображение.\"    )\n",
        "      logging.info('Bot sent start message to user')\n",
        "\n",
        "\n",
        "  @bot.message_handler(content_types=['document', 'photo'])\n",
        "  def scan_message(message):\n",
        "      logging.info('User uploaded a document or a photo')\n",
        "\n",
        "      if message.content_type == 'photo':    # Проверяет, что загружено изображение\n",
        "          file_id = message.photo[-1].file_id\n",
        "      elif message.content_type == 'document':\n",
        "          if message.document.mime_type.startswith('image'):\n",
        "              file_id = message.document.file_id\n",
        "          else:\n",
        "              bot.send_message(message.chat.id,\n",
        "                  \"Что-то пошло не так. Я умею работать только с изображениями, попробуйте загрузить еще раз.\")\n",
        "              logging.error('User uploaded a non-image document')# неизвестный тип контента\n",
        "              return\n",
        "      else:\n",
        "          bot.send_message(message.chat.id,\n",
        "              \"Что-то пошло не так. Я умею работать только с изображениями, попробуйте загрузить еще раз.\")\n",
        "          logging.error('User uploaded a non-image content')\n",
        "          return\n",
        "\n",
        "\n",
        "      file_info = bot.get_file(file_id) # Получаем информацию о загруженном файле\n",
        "      fi = file_info.file_path\n",
        "      name = file_id + '.jpg'\n",
        "      urllib.request.urlretrieve(f'https://api.telegram.org/file/bot{TG_BOT_TOKEN}/{fi}', f'/content/user_image/{name}')\n",
        "\n",
        "      keyboard = telebot.types.ReplyKeyboardMarkup(resize_keyboard=True, one_time_keyboard=True)# Показываем клавиатуру\n",
        "      keyboard.add(\"Клод Моне\", \"Поль Сезанн\", \"Укиё-э\", \"Ван Гог\")\n",
        "      bot.send_message(message.chat.id, \"Теперь выбери стиль:\", reply_markup=keyboard)\n",
        "      bot.register_next_step_handler(message, process_style_selection, name)\n",
        "\n",
        "\n",
        "  def process_style_selection(message, name):\n",
        "      style_choice = message.text\n",
        "      logging.info(f'User selected style: {style_choice}')\n",
        "      bot.send_message(message.chat.id, \"Cкоро вернусь\")\n",
        "\n",
        "      if style_choice == \"Клод Моне\":\n",
        "          model_name = 'style_monet_pretrained'# Отправляем фото в нужную модель\n",
        "      elif style_choice == \"Поль Сезанн\":\n",
        "          model_name = 'style_cezanne_pretrained'\n",
        "      elif style_choice == \"Укиё-э\":\n",
        "          model_name = 'style_ukiyoe_pretrained'\n",
        "      else:\n",
        "          model_name = 'style_vangogh_pretrained'\n",
        "\n",
        "\n",
        "      command = f\"python test.py --dataroot /content/user_image/ --name {model_name} --model test --no_dropout --gpu_ids {gpu_ids} --preprocess scale_width --load_size 640\"\n",
        "      os.system(command)\n",
        "\n",
        "\n",
        "      fake_img_path = f'/content/pytorch-CycleGAN-and-pix2pix/results/{model_name}/test_latest/images/{name[:-4]}_fake.png'\n",
        "\n",
        "      bot.send_message(message.chat.id, \"Готово!\")                    # Отправка пользователю\n",
        "      with open(fake_img_path, \"rb\") as photo_file:\n",
        "          bot.send_photo(message.chat.id, photo_file)\n",
        "\n",
        "      keyboard = telebot.types.ReplyKeyboardMarkup(resize_keyboard=True, one_time_keyboard=True)\n",
        "      keyboard.add(\"Другой стиль\", \"Загрузить новое изображение\", \"Завершить\")  # Добавляем кнопку \"Завершить\"\n",
        "      bot.send_message(message.chat.id, \"Что дальше?\", reply_markup=keyboard)\n",
        "      logging.info('Bot sent next step options to user')\n",
        "      bot.register_next_step_handler(message, handle_next_step, name)\n",
        "\n",
        "\n",
        "  def handle_next_step(message, name):\n",
        "      choice = message.text\n",
        "      logging.info(f'User chose next step: {choice}')\n",
        "\n",
        "      if choice == \"Другой стиль\":\n",
        "          keyboard = telebot.types.ReplyKeyboardMarkup(resize_keyboard=True, one_time_keyboard=True)\n",
        "          keyboard.add(\"Клод Моне\", \"Поль Сезанн\", \"Укиё-э\", \"Ван Гог\")\n",
        "          bot.send_message(message.chat.id, \"Выбери другой стиль:\", reply_markup=keyboard)\n",
        "          bot.register_next_step_handler(message, process_style_selection, name)\n",
        "\n",
        "      elif choice == \"Загрузить новое изображение\":\n",
        "          bot.send_message(message.chat.id, \"Загрузи новое изображение:\")\n",
        "          bot.register_next_step_handler(message, scan_message)\n",
        "          logging.info('Bot prompted user to upload a new image')\n",
        "\n",
        "      elif choice == \"Завершить\":\n",
        "          bot.send_message(message.chat.id, \"До новых встреч! Когда захочешь продолжить нажми /start \")\n",
        "          logging.info('User ended the conversation')\n",
        "\n",
        "  def main():\n",
        "      bot.polling()\n",
        "\n",
        "  if __name__ == \"__main__\":\n",
        "      main()"
      ],
      "metadata": {
        "id": "uu-DPXSzXtaM"
      },
      "execution_count": null,
      "outputs": []
    },
    {
      "cell_type": "markdown",
      "source": [
        "## Запуск бота"
      ],
      "metadata": {
        "id": "DtCdQj9a-_CG"
      }
    },
    {
      "cell_type": "code",
      "source": [
        "start_bot()"
      ],
      "metadata": {
        "id": "QmwK7_Ic1d1Z",
        "colab": {
          "base_uri": "https://localhost:8080/"
        },
        "outputId": "bbcb2b1f-367e-4522-e0a2-79d0f0967701"
      },
      "execution_count": null,
      "outputs": [
        {
          "metadata": {
            "tags": null
          },
          "name": "stderr",
          "output_type": "stream",
          "text": [
            "INFO:root:gpu_ids is 0\n",
            "INFO:root:Bot is ready!\n"
          ]
        }
      ]
    },
    {
      "cell_type": "code",
      "source": [],
      "metadata": {
        "id": "wx7aTbmv4Rdm"
      },
      "execution_count": null,
      "outputs": []
    }
  ]
}